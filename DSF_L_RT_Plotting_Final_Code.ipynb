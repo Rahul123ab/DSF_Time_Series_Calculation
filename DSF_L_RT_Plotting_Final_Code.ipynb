{
  "nbformat": 4,
  "nbformat_minor": 0,
  "metadata": {
    "colab": {
      "provenance": [],
      "authorship_tag": "ABX9TyMy4cFeAybkv/e4ndwf2AhM",
      "include_colab_link": true
    },
    "kernelspec": {
      "name": "python3",
      "display_name": "Python 3"
    },
    "language_info": {
      "name": "python"
    }
  },
  "cells": [
    {
      "cell_type": "markdown",
      "metadata": {
        "id": "view-in-github",
        "colab_type": "text"
      },
      "source": [
        "<a href=\"https://colab.research.google.com/github/Rahul123ab/DSF_Time_Series_Calculation/blob/main/DSF_L_RT_Plotting_Final_Code.ipynb\" target=\"_parent\"><img src=\"https://colab.research.google.com/assets/colab-badge.svg\" alt=\"Open In Colab\"/></a>"
      ]
    },
    {
      "cell_type": "code",
      "execution_count": null,
      "metadata": {
        "id": "_v-BZUM0kKte",
        "colab": {
          "base_uri": "https://localhost:8080/"
        },
        "outputId": "98fbe50f-d028-444e-eb6b-ca496185bb05"
      },
      "outputs": [
        {
          "output_type": "stream",
          "name": "stdout",
          "text": [
            "All plots have been saved to /content/200_Final_Plottings.pdf in a web layout format.\n"
          ]
        }
      ],
      "source": [
        "import pandas as pd\n",
        "import matplotlib.pyplot as plt\n",
        "from matplotlib.backends.backend_pdf import PdfPages\n",
        "import os\n",
        "import math\n",
        "\n",
        "# Define the path where your CSV files are stored\n",
        "folder_path = '/content/DSF_Project'\n",
        "\n",
        "# Function to extract numeric values from filename for sorting\n",
        "def extract_sort_key(filename):\n",
        "    base_name = os.path.splitext(filename)[0]\n",
        "    parts = base_name.split('_')\n",
        "    return [float(part) if '.' in part else int(part) for part in parts]\n",
        "\n",
        "# Get a list of all CSV files in the folder and sort them by numeric parts in filename\n",
        "csv_files = sorted([f for f in os.listdir(folder_path) if f.endswith('.csv')],\n",
        "                   key=extract_sort_key)\n",
        "\n",
        "# Define the output PDF file\n",
        "output_pdf_path = '/content/10_Final_Plottings.pdf'\n",
        "\n",
        "# Set the number of plots per page (rows and columns for the grid)\n",
        "plots_per_row = 2\n",
        "plots_per_col = 2\n",
        "plots_per_page = plots_per_row * plots_per_col\n",
        "\n",
        "# Create a PdfPages object to save multiple plots in one PDF\n",
        "with PdfPages(output_pdf_path) as pdf:\n",
        "    # Calculate the total number of pages\n",
        "    total_pages = math.ceil(len(csv_files) / plots_per_page)\n",
        "\n",
        "    # Process and plot each CSV file\n",
        "    for page in range(total_pages):\n",
        "        fig, axes = plt.subplots(plots_per_col, plots_per_row, figsize=(14, 10))\n",
        "        fig.suptitle(f'Generalized Mean Ratio vs Window ID - Page {page + 1}', fontsize=16)\n",
        "\n",
        "        # Flatten the axes array for easy indexing\n",
        "        axes = axes.flatten()\n",
        "\n",
        "        # Plot on each subplot within this page\n",
        "        for i in range(plots_per_page):\n",
        "            file_index = page * plots_per_page + i\n",
        "            if file_index >= len(csv_files):\n",
        "                # Hide any remaining empty subplots\n",
        "                axes[i].axis('off')\n",
        "                continue\n",
        "\n",
        "            # Load the CSV file\n",
        "            file = csv_files[file_index]\n",
        "            file_path = os.path.join(folder_path, file)\n",
        "            df = pd.read_csv(file_path)\n",
        "\n",
        "            # Plot points where is_attacked is 'N' (blue) and 'Y' (red)\n",
        "            axes[i].scatter(df[df['is_attacked'] == 'N']['window_id'],\n",
        "                            df[df['is_attacked'] == 'N']['generalized_mean_ratio'],\n",
        "                            color='blue', label='N (Benign)', alpha=0.6)\n",
        "            axes[i].scatter(df[df['is_attacked'] == 'Y']['window_id'],\n",
        "                            df[df['is_attacked'] == 'Y']['generalized_mean_ratio'],\n",
        "                            color='red', label='Y (Attacked)', alpha=0.6)\n",
        "\n",
        "            # Add labels, title, and grid for each subplot\n",
        "            axes[i].set_title(f'{file}', fontsize=10)\n",
        "            axes[i].set_xlabel('Window ID')\n",
        "            axes[i].set_ylabel('Generalized Mean Ratio')\n",
        "            axes[i].grid(True)\n",
        "            axes[i].legend(fontsize=8)\n",
        "\n",
        "        # Adjust layout and save the current page to PDF\n",
        "        plt.tight_layout(rect=[0, 0, 1, 0.96])  # leave space for the main title\n",
        "        pdf.savefig(fig)  # Save the figure as a new page in the PDF\n",
        "        plt.close(fig)    # Close the figure to free memory\n",
        "\n",
        "print(f\"All plots have been saved to {output_pdf_path} in a web layout format.\")"
      ]
    }
  ]
}