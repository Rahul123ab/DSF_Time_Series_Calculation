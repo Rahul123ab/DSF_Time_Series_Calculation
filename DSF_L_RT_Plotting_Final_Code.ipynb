import pandas as pd
import matplotlib.pyplot as plt
from matplotlib.backends.backend_pdf import PdfPages
import os
import math

# Define the path where your CSV files are stored
folder_path = '/content/DSF_Project'

# Function to extract numeric values from filename for sorting
def extract_sort_key(filename):
    base_name = os.path.splitext(filename)[0]
    parts = base_name.split('_')
    return [float(part) if '.' in part else int(part) for part in parts]

# Get a list of all CSV files in the folder and sort them by numeric parts in filename
csv_files = sorted([f for f in os.listdir(folder_path) if f.endswith('.csv')],
                   key=extract_sort_key)

# Define the output PDF file
output_pdf_path = '/content/10_Final_Plottings.pdf'

# Set the number of plots per page (rows and columns for the grid)
plots_per_row = 2
plots_per_col = 2
plots_per_page = plots_per_row * plots_per_col

# Create a PdfPages object to save multiple plots in one PDF
with PdfPages(output_pdf_path) as pdf:
    # Calculate the total number of pages
    total_pages = math.ceil(len(csv_files) / plots_per_page)

    # Process and plot each CSV file
    for page in range(total_pages):
        fig, axes = plt.subplots(plots_per_col, plots_per_row, figsize=(14, 10))
        fig.suptitle(f'Generalized Mean Ratio vs Window ID - Page {page + 1}', fontsize=16)

        # Flatten the axes array for easy indexing
        axes = axes.flatten()

        # Plot on each subplot within this page
        for i in range(plots_per_page):
            file_index = page * plots_per_page + i
            if file_index >= len(csv_files):
                # Hide any remaining empty subplots
                axes[i].axis('off')
                continue

            # Load the CSV file
            file = csv_files[file_index]
            file_path = os.path.join(folder_path, file)
            df = pd.read_csv(file_path)

            # Plot points where is_attacked is 'N' (blue) and 'Y' (red)
            axes[i].scatter(df[df['is_attacked'] == 'N']['window_id'],
                            df[df['is_attacked'] == 'N']['generalized_mean_ratio'],
                            color='blue', label='N (Benign)', alpha=0.6)
            axes[i].scatter(df[df['is_attacked'] == 'Y']['window_id'],
                            df[df['is_attacked'] == 'Y']['generalized_mean_ratio'],
                            color='red', label='Y (Attacked)', alpha=0.6)

            # Add labels, title, and grid for each subplot
            axes[i].set_title(f'{file}', fontsize=10)
            axes[i].set_xlabel('Window ID')
            axes[i].set_ylabel('Generalized Mean Ratio')
            axes[i].grid(True)
            axes[i].legend(fontsize=8)

        # Adjust layout and save the current page to PDF
        plt.tight_layout(rect=[0, 0, 1, 0.96])  # leave space for the main title
        pdf.savefig(fig)  # Save the figure as a new page in the PDF
        plt.close(fig)    # Close the figure to free memory

print(f"All plots have been saved to {output_pdf_path} in a web layout format.")
